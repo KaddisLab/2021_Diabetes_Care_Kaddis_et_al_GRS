{
 "cells": [
  {
   "cell_type": "markdown",
   "metadata": {
    "kernel": "SoS"
   },
   "source": [
    "## SUPPLEMENTARY DATA"
   ]
  },
  {
   "cell_type": "markdown",
   "metadata": {
    "kernel": "SoS"
   },
   "source": [
    "#### Ancestry-Specific Genetic Risk Score Improves Prediction of Type 1 Diabetes\n",
    "John S. Kaddis, Ph.D.;  Daniel J. Perry, Ph.D.; Anh Nguyet Vu, B.S.; Stephen S. Rich, Ph.D.; Mark A. Atkinson, Ph.D.; Desmond A. Schatz, M.D.; Bart O. Roep, M.D., Ph.D; Todd M. Brusko, Ph.D."
   ]
  },
  {
   "cell_type": "markdown",
   "metadata": {
    "kernel": "SoS"
   },
   "source": [
    "#### Notebook Dependencies\n",
    "Code in this notebook relies on the use of SAS Software, which is only accessible through a paid license.  \n",
    "\n",
    "-If you have SAS, then install the SAS Kernel for Jupyter Notebooks, found here: https://github.com/sassoftware/sas_kernel\n",
    "<br>-If you do not have access to SAS, there is a free version of it, currently called \"SAS OnDemand for Academics: Studio\"  You can find out more about that here: https://www.sas.com/en_us/software/on-demand-for-academics/references/getting-started-with-sas-ondemand-for-academics-studio.html\n",
    "\n",
    "Regardless of your experience with or access to SAS, all of the data files used for this analysis are provided here, including the data derived from SAS.  "
   ]
  },
  {
   "cell_type": "markdown",
   "metadata": {
    "kernel": "SoS"
   },
   "source": [
    "### METHODS"
   ]
  },
  {
   "cell_type": "markdown",
   "metadata": {
    "kernel": "SoS"
   },
   "source": [
    "#### A. Human Organ Donors\n",
    "Following acquisition of informed research consent from next of kin, pancreata, related tissues, and blood were obtained from deceased organ donors in the United States.  All donations were shipped to the nPOD biorepository at the University of Florida for processing, as previously described.(1,2) All experimental data was acquired under an approval from the University of Florida Institutional Review Board. "
   ]
  },
  {
   "cell_type": "markdown",
   "metadata": {
    "kernel": "SoS"
   },
   "source": [
    "#### B. DNA Isolation and genotyping\n",
    "DNA from snap-frozen spleen or pancreas tissue was isolated, as previously described.(2) Donors were genotyped at 974,650 unique loci using a custom SNP array termed UFDIchip, as described elsewhere.(3) In brief, the base array consists of the AxiomTM Precision Medicine Research Array (ThermoFisher Scientific), to which all content from the ImmunoChip(4) was added, as well as all previously reported credible T1D risk variants.(5) UFDIchips were processed on an Affymetrix Gene Titan instrument with external sample handling on a BioMek FX dual arm robotic workstation. Data processing and quality control procedures were performed at the SNP, sample, and plate levels using Axiom™ Analysis Suite 3.0 (ThermoFisher Scientific) set to the default stringency thresholds as recommended. Samples discordant for genetic versus reported sex were dropped. "
   ]
  },
  {
   "cell_type": "markdown",
   "metadata": {
    "kernel": "SoS"
   },
   "source": [
    "#### C. GRS Calculation\n",
    "EUR GRS was calculated as previously described(6,7) using 26 SNP genotypes extracted from UFDIchip array data and 4 from imputed data. The 4 imputed SNPs were for IL2 (rs2069762, r2 = 0.9962), HLA-A*24 (rs1264813, r2 = 0.9961), INS (rs689, r2 = 0.9486), and UBASH3A (rs3788013, r2 = 0.9967). AFR GRS was calculated as previously described (8) using 4 SNP genotypes extracted from the UFDIchip array and 3 from imputed data.  The 3 imputed SNPs were for rs9271594 (r2 = 0.9498), rs34303755 (r2 = 0.8325), INS (rs689, r2 = 0.9210). The resultant datafiles are provided below. "
   ]
  },
  {
   "cell_type": "code",
   "execution_count": null,
   "metadata": {
    "kernel": "SAS"
   },
   "outputs": [],
   "source": [
    "/**********************\n",
    "Two files contain the EUR GRS and AFR GRS data\n",
    "**********************/\n",
    "\n",
    "%let location =F:\\Manuscripts\\2021_06_11_Diab_Care_GRS\\submission;\n",
    "\n",
    "\n",
    "PROC import out=eurgrs datafile = \"&location\\data\\EUR_GRS_nPOD.xlsx\"\n",
    "\tDBMS = xlsx replace;\n",
    "RUN;\n",
    "\n",
    "\n",
    "PROC import out=afrgrs datafile = \"&location\\data\\AFR_GRS_nPOD.xlsx\"\n",
    "    DBMS = xlsx replace;\n",
    "RUN;\n",
    "\n"
   ]
  },
  {
   "cell_type": "markdown",
   "metadata": {
    "kernel": "SoS"
   },
   "source": [
    "#### D. Ancestry Analysis\n",
    "Ancestry analysis was performed using ADMIXTURE v1.3.(9) The UFDIchip data was first filtered to exclude markers with high linkage disequilibrium and missingness using recommended parameters. The 1000 Genomes Phase 3 data(10) was obtained and used as the reference, with all samples and the super population labels (EUR, EAS, AMR, SAS, AFR) given as reference input to ADMIXTURE supervised training over a total of five runs. Runs were compared and confirmed to have consistent results for ancestry proportions; results reported are representative of all runs.  The SAS FASTCLUS and CANDISC procedures were then used to define clusters and group individuals together based on ancestry proportions.   "
   ]
  },
  {
   "cell_type": "markdown",
   "metadata": {
    "kernel": "SAS"
   },
   "source": [
    "#### D.1 Admixture runs\n",
    "The ADMIXTURE pipeline developed for this analysis is available as a dockerized container on GitLab at: https://gitlab.com/kaddis-lab/admixture-project \n",
    "\n",
    "Detailed documentation on how to use the dockerized container is available at: https://kaddis-lab.gitlab.io/admixture-project/\n",
    "\n",
    "For those without a bioinformatics background, a web-based implementation of the ADMIXTURE pipeline used for this analysis is also available on the documentation site at: https://kaddis-lab.gitlab.io/admixture-project/usage/web-app/"
   ]
  },
  {
   "cell_type": "code",
   "execution_count": null,
   "metadata": {
    "kernel": "SAS"
   },
   "outputs": [],
   "source": [
    "/**********************\n",
    "Below file contains the results from the admixture runs\n",
    "**********************/\n",
    "\n",
    "PROC import out=genetics datafile = \"&location\\data\\npod_admix_results_v1.xlsx\"\n",
    "\tDBMS = xlsx replace;\n",
    "RUN;\n",
    "\n",
    "DATA genetics1 (keep=EUR EAS AMR SAS AFR ID corelabel);\n",
    "    set genetics;\n",
    "RUN;"
   ]
  },
  {
   "cell_type": "markdown",
   "metadata": {
    "kernel": "SAS"
   },
   "source": [
    "#### D.2 Cluster creation"
   ]
  },
  {
   "cell_type": "code",
   "execution_count": null,
   "metadata": {
    "kernel": "SAS"
   },
   "outputs": [],
   "source": [
    "/**********************\n",
    "more info on fastclus found here: https://documentation.sas.com/?docsetId=statug&docsetVersion=15.1&docsetTarget=statug_fastclus_overview.htm&locale=en\n",
    "**********************/\n",
    "\n",
    "/**********************\n",
    "no standardization is needed prior to clustering, all vars measured on the same scale\n",
    "**********************/\n",
    "\n",
    "proc fastclus data=genetics1 out=Clust\n",
    "              maxclusters=15 maxiter=100; /*tried clustering from 5 to 16; tried maxiter 100 and 1000 no difference*/\n",
    "   var EUR EAS AMR SAS AFR;\n",
    "run;\n",
    "\n",
    "proc candisc data=clust out=genetics2;\n",
    "var EUR EAS AMR SAS AFR;\n",
    "class cluster;\n",
    "run;\n",
    "\n",
    "proc sgplot data=genetics2;\n",
    "   scatter y=can2 x=can1 / markerchar=cluster;\n",
    "run;\n"
   ]
  },
  {
   "cell_type": "code",
   "execution_count": null,
   "metadata": {
    "kernel": "SAS"
   },
   "outputs": [],
   "source": [
    "/**********************\n",
    "post-cluster coding\n",
    "**********************/\n",
    "\n",
    "DATA genetics3;\n",
    "    set genetics2;\n",
    "    member=\"        \";\n",
    "    if cluster=1  then member=\"AFR\";\n",
    "    if cluster=2  then member=\"AMR\"; \n",
    "    if cluster=3  then member=\"AMRp\";\n",
    "    if cluster=4  then member=\"MIX\";\n",
    "    if cluster=5  then member=\"AMRp\"; \n",
    "    if cluster=6  then member=\"MIX\";\n",
    "    if cluster=7  then member=\"EURp\";\n",
    "    if cluster=8  then member=\"EUR\"; \n",
    "    if cluster=9  then member=\"EURp\";\n",
    "    if cluster=10 then member=\"EAS\";\n",
    "    if cluster=11 then member=\"AFRp\"; \n",
    "    if cluster=12 then member=\"EURp\";\n",
    "    if cluster=13 then member=\"EURp\";\n",
    "    if cluster=14 then member=\"MIX\"; \n",
    "    if cluster=15 then member=\"AFRp\";\n",
    "    \n",
    "    \n",
    "    alpha=.;\n",
    "    if cluster=1  then alpha=1;\n",
    "    if cluster=2  then alpha=1;\n",
    "    if cluster=3  then alpha=.50;\n",
    "    if cluster=4  then alpha=1;\n",
    "    if cluster=5  then alpha=0.25; \n",
    "    if cluster=6  then alpha=1;\n",
    "    if cluster=7  then alpha=0.25;\n",
    "    if cluster=8  then alpha=1;\n",
    "    if cluster=9  then alpha=0.50;\n",
    "    if cluster=10 then alpha=1;\n",
    "    if cluster=11 then alpha=0.50;\n",
    "    if cluster=12 then alpha=0.50;\n",
    "    if cluster=13 then alpha=0.50;\n",
    "    if cluster=14 then alpha=1;\n",
    "    if cluster=15 then alpha=0.25;\n",
    "RUN;\n",
    "\n",
    "Data genetics3;\n",
    "    set genetics3;\n",
    "    if corelabel^=member then flag=1;\n",
    "run;\n",
    "    \n",
    "\n",
    "proc export \n",
    "  data=genetics3\n",
    "  dbms=xlsx\n",
    "  outfile=\"&location\\data\\npod_admix_results_v2.xlsx\" \n",
    "  replace;\n",
    "run;\n",
    "\n",
    "\n",
    "\n",
    "PROC means data=genetics3 noprint nway n;\n",
    "class CLUSTER member alpha;\n",
    "var Can1;\n",
    "output out=genetics3_can1 mean=Can1_mean;\n",
    "run;\n",
    "\n",
    "PROC means data=genetics3 noprint nway n;\n",
    "class CLUSTER member alpha;\n",
    "var Can2;\n",
    "output out=genetics3_can2 mean=Can2_mean;\n",
    "run;\n",
    "\n",
    "\n",
    "DATA genetics4;\n",
    "merge genetics3_can1 genetics3_can2;\n",
    "by cluster;\n",
    "rename _FREQ_=count;\n",
    "run;\n",
    "\n",
    "\n",
    "proc export \n",
    "  data=genetics4\n",
    "  dbms=xlsx\n",
    "  outfile=\"&location\\data\\npod_admix_results_v2_sum.xlsx\" \n",
    "  replace;\n",
    "run;\n",
    "\n"
   ]
  },
  {
   "cell_type": "markdown",
   "metadata": {
    "kernel": "SAS"
   },
   "source": [
    "#### D.3 Statistical Analysis\n",
    "Statistical testing was performed for differences in GRSs between non-diabetic and T1D individuals within each ancestry using a two-sample t test with a pooled or Satterthwaite corrected p-value if parametric, or the Kruskal-Wallis test if non-parametric. Normality testing was performed using the Shapiro Wilks method.  The Hodges-Lehmann estimation was used to obtain median differences and 95% CIs.  \n",
    "\n",
    "Testing was performed using both the EUR GRS and AFR GRS. Multiple comparison corrections are denoted with an * within the main text and are only signficant at a nominal alpha of <0.025.  All reported p-values are 2-sided.    "
   ]
  },
  {
   "cell_type": "code",
   "execution_count": null,
   "metadata": {
    "kernel": "SAS"
   },
   "outputs": [],
   "source": [
    "/**********************\n",
    "add demographics, GRS data analysis\n",
    "**********************/\n",
    "\n",
    "data genetics3;\n",
    "    set genetics3;\n",
    "    caseid=ID*1;\n",
    "    id1=put(ID, 4.);\n",
    "RUN;\n",
    "\n",
    "PROC import out=demographics datafile = \"&location\\data\\Demographics_2021-05-20_13-42-23.xlsx\"\n",
    "\tDBMS = xlsx replace;\n",
    "RUN;\n",
    "\n",
    "DATA demographics; \n",
    "    set demographics; \n",
    "    id1=put('nPOD CaseID'n, 4.);\n",
    "    rename 'Donor Type'n=donortype;\n",
    "RUN;\n",
    "\n",
    "\n",
    "DATA eurgrs1;\n",
    "    set eurgrs;\n",
    "    id1=put('nPOD CaseID'n, 4.);\n",
    "RUN;\n",
    "\n",
    "DATA eurgrs1 (keep = id1 grs1);\n",
    "    set eurgrs1;\n",
    "RUN;\n",
    "\n",
    "\n",
    "DATA afrgrs1;\n",
    "    set afrgrs;\n",
    "    id1=put(FID, 4.);\n",
    "RUN;\n",
    "\n",
    "DATA afrgrs1 (keep = id1 grs);\n",
    "set afrgrs1;\n",
    "RUN;\n",
    "\n",
    "\n",
    "PROC sort data=genetics3; by id1; run;\n",
    "PROC sort data=demographics; by id1; run;\n",
    "PROC sort data=eurgrs1; by id1; run;\n",
    "PROC sort data=afrgrs1; by id1; run;\n",
    "\n",
    "DATA all;\n",
    " merge genetics3 (in=a) demographics(in=b) eurgrs1 (in=c) afrgrs1(in=d);\n",
    " by id1;\n",
    " if a;\n",
    "RUN;\n",
    "\n",
    "\n",
    "proc export \n",
    "  data=all\n",
    "  dbms=xlsx\n",
    "  outfile=\"&location\\data\\data_for_figures_analysis_all.xlsx\" \n",
    "  replace;\n",
    "run;\n",
    "\n",
    "\n",
    "DATA all2;\n",
    "    SET ALL;\n",
    "    if donortype^=\"T1D\" and donortype^=\"No Diabetes\" then delete;\n",
    "    if member^=\"AFR\" and member^=\"EUR\" and member^=\"AMR\" then delete;\n",
    "run;\n",
    "\n",
    "proc export \n",
    "  data=all2\n",
    "  dbms=xlsx\n",
    "  outfile=\"&location\\data\\data_for_figures_analysis_analyzed.xlsx\" \n",
    "  replace;\n",
    "run;"
   ]
  },
  {
   "cell_type": "code",
   "execution_count": null,
   "metadata": {
    "kernel": "SAS"
   },
   "outputs": [],
   "source": [
    "/**********************\n",
    "differences in EUR GRS across ancestries\n",
    "GRS is the AFR GRS\n",
    "GRS1 is the EUR GRS\n",
    "**********************/\n",
    "\n",
    "proc sort data=ALL2; by member; run;\n",
    "proc freq data=ALL2; tables donortype*member; run;\n",
    " proc NPAR1WAY data=all2 wilcoxon hl alpha=0.05; /*HL for hodges-lehmann estimates and alpha to set the CIs*/ \n",
    "\tclass donortype;\n",
    "\tvar GRS;\n",
    "     by member;\n",
    "RUN;\n"
   ]
  },
  {
   "cell_type": "code",
   "execution_count": null,
   "metadata": {
    "kernel": "SAS"
   },
   "outputs": [],
   "source": [
    "proc sort data=ALL2; by member; run;\n",
    "proc freq data=ALL2; tables donortype*member; run;\n",
    " proc NPAR1WAY data=all2 wilcoxon hl alpha=0.05; /*HL for hodges-lehmann estimates and alpha to set the CIs*/ \n",
    "\tclass donortype;\n",
    "\tvar GRS1;\n",
    "     by member;\n",
    "RUN;"
   ]
  },
  {
   "cell_type": "code",
   "execution_count": null,
   "metadata": {
    "kernel": "SAS"
   },
   "outputs": [],
   "source": [
    "DATA special_comp;\n",
    "set all2;\n",
    "if member='AMR' then delete;\n",
    "if donortype=\"No Diabetes\" then delete;\n",
    "run;\n",
    "\n",
    "proc NPAR1WAY data=special_comp wilcoxon hl alpha=0.05; /*HL for hodges-lehmann estimates and alpha to set the CIs*/ \n",
    "\tclass member;\n",
    "\tvar GRS1;\n",
    "RUN;\n",
    "\n",
    "\n",
    "proc NPAR1WAY data=special_comp wilcoxon hl alpha=0.05; /*HL for hodges-lehmann estimates and alpha to set the CIs*/ \n",
    "\tclass member;\n",
    "\tvar GRS;\n",
    "RUN;\n"
   ]
  },
  {
   "cell_type": "markdown",
   "metadata": {
    "kernel": "SoS"
   },
   "source": [
    "### REFERENCES"
   ]
  },
  {
   "cell_type": "markdown",
   "metadata": {
    "kernel": "SoS"
   },
   "source": [
    "1. Pugliese, A., et al. The Juvenile Diabetes Research Foundation Network for Pancreatic Organ Donors with Diabetes (nPOD) Program: goals, operational model and emerging findings. Pediatr Diabetes 15, 1-9 (2014).\n",
    "\n",
    "2. Campbell-Thompson, M., et al. Network for Pancreatic Organ Donors with Diabetes (nPOD): developing a tissue biobank for type 1 diabetes. Diabetes Metab Res Rev 28, 608-617 (2012).\n",
    "\n",
    "3. Carr, A.L.J., et al. Histological validation of a type 1 diabetes clinical diagnostic model for classification of diabetes. Diabetic Medicine 37, 2160-2168 (2020).\n",
    "\n",
    "4. Cortes, A. & Brown, M.A. Promise and pitfalls of the Immunochip. Arthritis Research & Therapy 13, 101 (2011).\n",
    "\n",
    "5. Onengut-Gumuscu, S., et al. Fine mapping of type 1 diabetes susceptibility loci and evidence for colocalization of causal variants with lymphoid gene enhancers. Nature Genetics 47, 381-386 (2015).\n",
    "\n",
    "6. Type 1 Diabetes Genetic Risk Score: A Novel Tool to Discriminate Monogenic and Type 1 Diabetes. Diabetes 65, 2094-2099 (2016).\n",
    "\n",
    "7. Oram, R.A., et al. A Type 1 Diabetes Genetic Risk Score Can Aid Discrimination Between Type 1 and Type 2 Diabetes in Young Adults. Diabetes Care 39, 337-344 (2016).\n",
    "\n",
    "8. Onengut-Gumuscu, S., et al. Type 1 Diabetes Risk in African-Ancestry Participants and Utility of an Ancestry-Specific Genetic Risk Score. Diabetes Care 42, 406-415 (2019).\n",
    "\n",
    "9. Alexander, D.H., Novembre, J. & Lange, K. Fast model-based estimation of ancestry in unrelated individuals. Genome Res 19, 1655-1664 (2009).\n",
    "\n",
    "10. Auton, A., et al. A global reference for human genetic variation. Nature 526, 68-74 (2015).\n"
   ]
  }
 ],
 "metadata": {
  "kernelspec": {
   "display_name": "SoS",
   "language": "sos",
   "name": "sos"
  },
  "language_info": {
   "codemirror_mode": "sos",
   "file_extension": ".sos",
   "mimetype": "text/x-sos",
   "name": "sos",
   "nbconvert_exporter": "sos_notebook.converter.SoS_Exporter",
   "pygments_lexer": "sos"
  },
  "sos": {
   "kernels": [
    [
     "Python3",
     "python3",
     "Python3",
     "#FFD91A",
     {
      "name": "ipython",
      "version": 3
     }
    ],
    [
     "R",
     "ir",
     "R",
     "#DCDCDA",
     "r"
    ],
    [
     "SAS",
     "sas",
     "SAS",
     "#9CD4F9",
     "sas"
    ]
   ],
   "panel": {
    "displayed": false,
    "height": 0
   },
   "version": "0.19.14"
  }
 },
 "nbformat": 4,
 "nbformat_minor": 2
}
